{
  "nbformat": 4,
  "nbformat_minor": 0,
  "metadata": {
    "colab": {
      "provenance": [],
      "authorship_tag": "ABX9TyPQenr08t6m6uAq4jG3Powz",
      "include_colab_link": true
    },
    "kernelspec": {
      "name": "python3",
      "display_name": "Python 3"
    },
    "language_info": {
      "name": "python"
    }
  },
  "cells": [
    {
      "cell_type": "markdown",
      "metadata": {
        "id": "view-in-github",
        "colab_type": "text"
      },
      "source": [
        "<a href=\"https://colab.research.google.com/github/eunseojeon/20250624/blob/main/250624%ED%8C%8C%EC%9D%B4%EC%8D%AC.ipynb\" target=\"_parent\"><img src=\"https://colab.research.google.com/assets/colab-badge.svg\" alt=\"Open In Colab\"/></a>"
      ]
    },
    {
      "cell_type": "code",
      "source": [
        "age = 20\n",
        "score = 70\n",
        "\n",
        "if age >= 18:\n",
        "    if score >= 80:\n",
        "        print(\"합격\")\n",
        "    else:\n",
        "        print(\"불합격\")\n",
        "else:\n",
        "    print(\"결과 미성년\")\n"
      ],
      "metadata": {
        "colab": {
          "base_uri": "https://localhost:8080/"
        },
        "id": "_ifDeADbxymE",
        "outputId": "c3ea1d85-ed2e-46f4-ba6a-38c10457066e"
      },
      "execution_count": 23,
      "outputs": [
        {
          "output_type": "stream",
          "name": "stdout",
          "text": [
            "불합격\n"
          ]
        }
      ]
    },
    {
      "cell_type": "code",
      "source": [
        "height_1 = 170\n",
        "height_2 = 150\n",
        "height_3 = 180\n",
        "height_4 = 175\n",
        "height_5 = 178\n",
        "\n",
        "sum = height_1 + height_2 + height_3 + height_4 + height_5\n",
        "mean = sum / 5\n",
        "\n",
        "print (mean)"
      ],
      "metadata": {
        "colab": {
          "base_uri": "https://localhost:8080/"
        },
        "id": "PISluvcQytgm",
        "outputId": "001a2b14-4dcc-4426-8ddb-9ba04db75ede"
      },
      "execution_count": 25,
      "outputs": [
        {
          "output_type": "stream",
          "name": "stdout",
          "text": [
            "170.6\n"
          ]
        }
      ]
    },
    {
      "cell_type": "code",
      "source": [
        "heights = [160, 170, 180, 175, 165]\n",
        "total = 0\n",
        "for height in heights:\n",
        "    total += height\n",
        "average = total / len(heights)\n",
        "print(\"총합:\", total)\n",
        "print(\"평균 키:\", average)"
      ],
      "metadata": {
        "colab": {
          "base_uri": "https://localhost:8080/"
        },
        "id": "xouDbGnFy5R7",
        "outputId": "9f54e10d-e98f-4a53-f2f7-0ac43209ed35"
      },
      "execution_count": 27,
      "outputs": [
        {
          "output_type": "stream",
          "name": "stdout",
          "text": [
            "총합: 850\n",
            "평균 키: 170.0\n"
          ]
        }
      ]
    },
    {
      "cell_type": "markdown",
      "source": [
        "<키 평균 구하는 if문>"
      ],
      "metadata": {
        "id": "KAf3OLQP2pAo"
      }
    },
    {
      "cell_type": "code",
      "source": [
        "height_1 = 169\n",
        "height_2 = 150\n",
        "height_3 = 180\n",
        "height_4 = 175\n",
        "height_5 = 178\n",
        "\n",
        "sum = height_1 + height_2 + height_3 + height_4 + height_5\n",
        "mean = sum / 5\n",
        "\n",
        "print(\"평균 키:\", mean)\n",
        "\n",
        "# 170 이상과 미만 구분\n",
        "for height in [height_1, height_2, height_3, height_4, height_5]:\n",
        "    if height >= 170.4:\n",
        "        print(height, \"cm → 평균이상\")\n",
        "    else:\n",
        "        print(height, \"cm → 평균아래\")\n"
      ],
      "metadata": {
        "colab": {
          "base_uri": "https://localhost:8080/"
        },
        "id": "xiLZu8MEzQDv",
        "outputId": "4719ffa4-06f8-4b58-ac7c-dbfa425bd2dd"
      },
      "execution_count": 31,
      "outputs": [
        {
          "output_type": "stream",
          "name": "stdout",
          "text": [
            "평균 키: 170.4\n",
            "169 cm → 평균아래\n",
            "150 cm → 평균아래\n",
            "180 cm → 평균이상\n",
            "175 cm → 평균이상\n",
            "178 cm → 평균이상\n"
          ]
        }
      ]
    },
    {
      "cell_type": "markdown",
      "source": [
        "<자율주행 신호등 if문 샘플>"
      ],
      "metadata": {
        "id": "Y6CbS4B92XgW"
      }
    },
    {
      "cell_type": "code",
      "source": [
        "#자율주행 신호등과 관련된 if문\n",
        "traffic_light = \"red\"  # 신호등 색: red, yellow, green\n",
        "\n",
        "if traffic_light == \"red\":\n",
        "    print(\"정지\")\n",
        "elif traffic_light == \"yellow\":\n",
        "    print(\"감속\")\n",
        "elif traffic_light == \"green\":\n",
        "    print(\"전진\")\n"
      ],
      "metadata": {
        "colab": {
          "base_uri": "https://localhost:8080/"
        },
        "id": "L59z7nAy1-91",
        "outputId": "6662193a-ea4f-41a8-df5e-67a7552ad13a"
      },
      "execution_count": 32,
      "outputs": [
        {
          "output_type": "stream",
          "name": "stdout",
          "text": [
            "정지\n"
          ]
        }
      ]
    },
    {
      "cell_type": "markdown",
      "source": [
        "<자율주행 차선이탈 if문 샘플>"
      ],
      "metadata": {
        "id": "_qBX8OFr2gEU"
      }
    },
    {
      "cell_type": "code",
      "source": [
        "#앞차와의 거리 판단\n",
        "distance = 5  # 앞차와의 거리 (단위: m)\n",
        "\n",
        "if distance < 3:\n",
        "    print(\"급정지!\")\n",
        "elif distance < 10:\n",
        "    print(\"속도 줄이기\")\n",
        "else:\n",
        "    print(\"정상 주행\")\n"
      ],
      "metadata": {
        "colab": {
          "base_uri": "https://localhost:8080/"
        },
        "id": "DZSxdbAK2Q_s",
        "outputId": "538650dd-3db8-4daf-9d2b-531cf0aeea40"
      },
      "execution_count": 33,
      "outputs": [
        {
          "output_type": "stream",
          "name": "stdout",
          "text": [
            "속도 줄이기\n"
          ]
        }
      ]
    },
    {
      "cell_type": "markdown",
      "source": [
        "<차선이탈 감지if문>"
      ],
      "metadata": {
        "id": "dcBraGY726Md"
      }
    },
    {
      "cell_type": "code",
      "source": [
        "#차선 이탈 감지\n",
        "lane_departure = True  # 차선을 벗어났는지 여부\n",
        "\n",
        "if lane_departure:\n",
        "    print(\"차선 복귀 조향\")\n",
        "else:\n",
        "    print(\"유지 주행\")\n"
      ],
      "metadata": {
        "colab": {
          "base_uri": "https://localhost:8080/"
        },
        "id": "3AxN7tYF229L",
        "outputId": "00f3577e-c070-4c24-8e70-6e31ef57aa50"
      },
      "execution_count": 34,
      "outputs": [
        {
          "output_type": "stream",
          "name": "stdout",
          "text": [
            "차선 복귀 조향\n"
          ]
        }
      ]
    },
    {
      "cell_type": "markdown",
      "source": [
        "<와이퍼 작동 if문 샘플>"
      ],
      "metadata": {
        "id": "yLKifGGA3KW-"
      }
    },
    {
      "cell_type": "code",
      "source": [
        "#비오는 날 와이퍼 작동\n",
        "is_raining = True\n",
        "\n",
        "if is_raining:\n",
        "    print(\"와이퍼 작동\")\n",
        "else:\n",
        "    print(\"와이퍼 정지\")\n"
      ],
      "metadata": {
        "colab": {
          "base_uri": "https://localhost:8080/"
        },
        "id": "epVxHRlb3CfF",
        "outputId": "064b07c6-dd10-4f73-be23-1690ff3068fb"
      },
      "execution_count": 35,
      "outputs": [
        {
          "output_type": "stream",
          "name": "stdout",
          "text": [
            "와이퍼 작동\n"
          ]
        }
      ]
    },
    {
      "cell_type": "markdown",
      "source": [
        "<보행자 감지 시 정지하는 if문 샘플>"
      ],
      "metadata": {
        "id": "F5-4uRPu3S5T"
      }
    },
    {
      "cell_type": "code",
      "source": [
        "#보행자 감지 시 정지\n",
        "pedestrian_detected = True  # 카메라나 센서가 사람을 감지했는지 여부\n",
        "car_speed = 30  # 현재 속도 (단위: km/h)\n",
        "\n",
        "if pedestrian_detected:\n",
        "    if car_speed > 0:\n",
        "        print(\"보행자 감지됨 → 차량 정지\")\n",
        "    else:\n",
        "        print(\"이미 정지 상태\")\n",
        "else:\n",
        "    print(\"보행자 없음 → 계속 주행\")\n"
      ],
      "metadata": {
        "colab": {
          "base_uri": "https://localhost:8080/"
        },
        "id": "fAJfDhmY3OPy",
        "outputId": "1c28ac2b-54de-40a3-ca03-0e2a9ef70a90"
      },
      "execution_count": 36,
      "outputs": [
        {
          "output_type": "stream",
          "name": "stdout",
          "text": [
            "보행자 감지됨 → 차량 정지\n"
          ]
        }
      ]
    }
  ]
}